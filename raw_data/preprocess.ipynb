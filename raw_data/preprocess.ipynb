{
 "cells": [
  {
   "cell_type": "code",
   "execution_count": 4,
   "metadata": {},
   "outputs": [],
   "source": [
    "import numpy as np\n",
    "import pandas as pd\n",
    "import matplotlib.pyplot as plt\n",
    "import scipy\n",
    "import tqdm"
   ]
  },
  {
   "cell_type": "code",
   "execution_count": 5,
   "metadata": {},
   "outputs": [],
   "source": [
    "df_ = pd.read_sas(\"stockmonth_1962aug_2016dec.sas7bdat\")"
   ]
  },
  {
   "cell_type": "code",
   "execution_count": 6,
   "metadata": {},
   "outputs": [
    {
     "data": {
      "text/plain": [
       "(2756056, 97)"
      ]
     },
     "execution_count": 6,
     "metadata": {},
     "output_type": "execute_result"
    }
   ],
   "source": [
    "df_.shape"
   ]
  },
  {
   "cell_type": "code",
   "execution_count": 7,
   "metadata": {},
   "outputs": [],
   "source": [
    "df_['permno'] = df_.permno.astype(int)\n",
    "df_['DATE'] = pd.to_datetime(df_.DATE)"
   ]
  },
  {
   "cell_type": "code",
   "execution_count": 8,
   "metadata": {},
   "outputs": [],
   "source": [
    "df = df_.copy()"
   ]
  },
  {
   "cell_type": "code",
   "execution_count": 9,
   "metadata": {},
   "outputs": [
    {
     "data": {
      "text/plain": [
       "(653, 22873)"
      ]
     },
     "execution_count": 9,
     "metadata": {},
     "output_type": "execute_result"
    }
   ],
   "source": [
    "dates = sorted(df.DATE.unique())\n",
    "permnos = sorted(df.permno.unique())\n",
    "columns = sorted(col for col in df.columns if col not in ['RET', 'DATE', 'permno'])\n",
    "len(dates), len(permnos)"
   ]
  },
  {
   "cell_type": "code",
   "execution_count": 10,
   "metadata": {},
   "outputs": [],
   "source": [
    "characteristics = np.full((len(dates), len(permnos), len(df.columns) - 3), np.nan, dtype=np.float32)\n",
    "returns = np.empty_like(characteristics[:, :, 0], dtype=np.float32)"
   ]
  },
  {
   "cell_type": "code",
   "execution_count": 11,
   "metadata": {},
   "outputs": [],
   "source": [
    "df.set_index(['permno', 'DATE'], inplace=True, drop=True)\n",
    "df.sort_index(inplace=True)"
   ]
  },
  {
   "cell_type": "code",
   "execution_count": 12,
   "metadata": {},
   "outputs": [
    {
     "name": "stderr",
     "output_type": "stream",
     "text": [
      "100%|██████████| 2756056/2756056 [15:14<00:00, 3015.01it/s]\n"
     ]
    }
   ],
   "source": [
    "for idx, row in tqdm.tqdm(df[columns].iterrows(), total=len(df)):\n",
    "    permno, date = idx\n",
    "    characteristics[dates.index(date), permnos.index(permno), :] = row.values\n",
    "    #returns[dates.index(date), permnos.index(permno)] = row['RET']"
   ]
  },
  {
   "cell_type": "code",
   "execution_count": 13,
   "metadata": {},
   "outputs": [
    {
     "name": "stderr",
     "output_type": "stream",
     "text": [
      "100%|██████████| 2756056/2756056 [15:20<00:00, 2993.96it/s]\n"
     ]
    }
   ],
   "source": [
    "for idx, row in tqdm.tqdm(df[['RET',]].iterrows(), total=len(df)):\n",
    "    permno, date = idx\n",
    "    #characteristics[dates.index(date), permnos.index(permno), :] = row.values\n",
    "    returns[dates.index(date), permnos.index(permno)] = row['RET']"
   ]
  },
  {
   "cell_type": "code",
   "execution_count": 14,
   "metadata": {},
   "outputs": [],
   "source": [
    "ranks = np.empty_like(characteristics)"
   ]
  },
  {
   "cell_type": "code",
   "execution_count": 15,
   "metadata": {},
   "outputs": [
    {
     "name": "stderr",
     "output_type": "stream",
     "text": [
      "653it [01:05,  9.96it/s]\n"
     ]
    }
   ],
   "source": [
    "\n",
    "b = False\n",
    "\n",
    "for t, date in tqdm.tqdm(enumerate(dates)):\n",
    "    for c, col in enumerate(columns):\n",
    "        unique, inverse, counts = np.unique(characteristics[t, :, c], return_inverse=True, return_counts=True)\n",
    "        \n",
    "        if len(unique) <= 2:\n",
    "            ranks[t, :, c] = 0.0\n",
    "            continue\n",
    "        \n",
    "        rank = inverse / (len(unique) - int(np.isnan(unique[-1])) - 1) - 0.5\n",
    "\n",
    "        if np.isnan(unique[-1]):\n",
    "            ranks[t, :, c] = np.where(np.isnan(characteristics[t, :, c]), 0.0, rank)\n",
    "        else:\n",
    "            ranks[t, :, c] = rank\n",
    "        b = True"
   ]
  },
  {
   "cell_type": "code",
   "execution_count": 16,
   "metadata": {},
   "outputs": [],
   "source": [
    "seq_len = 12\n",
    "\n",
    "valids = np.isfinite(characteristics).sum(axis=2) > 67\n",
    "\n",
    "seq_valids = []\n",
    "for t, date in enumerate(dates[:-seq_len]):\n",
    "    seq_valids.append(valids[t:t+seq_len].all(axis=0))\n",
    "\n",
    "seq_valids = np.array(seq_valids)"
   ]
  },
  {
   "cell_type": "code",
   "execution_count": 17,
   "metadata": {},
   "outputs": [
    {
     "data": {
      "text/plain": [
       "(array([1.2180013e+07, 0.0000000e+00, 1.6580000e+03, 3.0769000e+04,\n",
       "        4.4924000e+04, 1.1281600e+05, 1.1220900e+05, 3.7521900e+05,\n",
       "        5.1616600e+05, 1.5622950e+06]),\n",
       " array([ 0. ,  9.4, 18.8, 28.2, 37.6, 47. , 56.4, 65.8, 75.2, 84.6, 94. ]),\n",
       " <BarContainer object of 10 artists>)"
      ]
     },
     "execution_count": 17,
     "metadata": {},
     "output_type": "execute_result"
    },
    {
     "data": {
      "image/png": "[encoded data removed]",
      "text/plain": [
       "<Figure size 640x480 with 1 Axes>"
      ]
     },
     "metadata": {},
     "output_type": "display_data"
    }
   ],
   "source": [
    "plt.hist(np.isfinite(characteristics).sum(axis=2).flatten())"
   ]
  },
  {
   "cell_type": "code",
   "execution_count": 18,
   "metadata": {},
   "outputs": [
    {
     "data": {
      "text/plain": [
       "(653, 22873)"
      ]
     },
     "execution_count": 18,
     "metadata": {},
     "output_type": "execute_result"
    }
   ],
   "source": [
    "returns.shape"
   ]
  },
  {
   "cell_type": "code",
   "execution_count": 20,
   "metadata": {},
   "outputs": [],
   "source": [
    "np.savez('data_mynp.npz', ranks=ranks, characteristics=characteristics, dates=dates, permnos=permnos, columns=columns, seq_valids=seq_valids, valids=valids, returns=returns)"
   ]
  },
  {
   "cell_type": "code",
   "execution_count": 15,
   "metadata": {},
   "outputs": [
    {
     "data": {
      "text/plain": [
       "(653, 22873, 94)"
      ]
     },
     "execution_count": 15,
     "metadata": {},
     "output_type": "execute_result"
    }
   ],
   "source": [
    "ranks.shape"
   ]
  },
  {
   "cell_type": "code",
   "execution_count": 19,
   "metadata": {},
   "outputs": [
    {
     "data": {
      "text/plain": [
       "(653, 22873)"
      ]
     },
     "execution_count": 19,
     "metadata": {},
     "output_type": "execute_result"
    }
   ],
   "source": [
    "valids.shape"
   ]
  }
 ],
 "metadata": {
  "kernelspec": {
   "display_name": "tas2",
   "language": "python",
   "name": "python3"
  },
  "language_info": {
   "codemirror_mode": {
    "name": "ipython",
    "version": 3
   },
   "file_extension": ".py",
   "mimetype": "text/x-python",
   "name": "python",
   "nbconvert_exporter": "python",
   "pygments_lexer": "ipython3",
   "version": "3.11.4"
  },
  "orig_nbformat": 4
 },
 "nbformat": 4,
 "nbformat_minor": 2
}
