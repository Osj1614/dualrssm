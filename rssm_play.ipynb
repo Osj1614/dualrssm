{
 "cells": [
  {
   "cell_type": "code",
   "execution_count": 8,
   "metadata": {},
   "outputs": [],
   "source": [
    "from rssm.data import StockSeqDataLoader\n",
    "import numpy as np"
   ]
  },
  {
   "cell_type": "code",
   "execution_count": 2,
   "metadata": {},
   "outputs": [
    {
     "name": "stdout",
     "output_type": "stream",
     "text": [
      "Loading data...\n"
     ]
    }
   ],
   "source": [
    "dloader = StockSeqDataLoader()"
   ]
  },
  {
   "cell_type": "code",
   "execution_count": 9,
   "metadata": {},
   "outputs": [
    {
     "name": "stdout",
     "output_type": "stream",
     "text": [
      "True\n",
      "(32, 12, 512, 94)\n",
      "True\n",
      "(32, 12, 512, 94)\n",
      "True\n",
      "(32, 12, 512, 94)\n",
      "True\n",
      "(32, 12, 512, 94)\n",
      "True\n",
      "(32, 12, 512, 94)\n",
      "True\n",
      "(32, 12, 512, 94)\n",
      "True\n",
      "(32, 12, 512, 94)\n",
      "True\n",
      "(32, 12, 512, 94)\n",
      "True\n",
      "(32, 12, 512, 94)\n",
      "True\n",
      "(32, 12, 512, 94)\n",
      "True\n",
      "(32, 12, 512, 94)\n",
      "True\n",
      "(32, 12, 512, 94)\n",
      "True\n",
      "(32, 12, 512, 94)\n",
      "True\n",
      "(32, 12, 512, 94)\n",
      "True\n",
      "(32, 12, 512, 94)\n",
      "True\n",
      "(32, 12, 512, 94)\n",
      "True\n",
      "(32, 12, 512, 94)\n"
     ]
    }
   ],
   "source": [
    "for b in dloader:\n",
    "    print(np.isfinite(b).all())\n",
    "    print(b.shape)"
   ]
  }
 ],
 "metadata": {
  "kernelspec": {
   "display_name": "tas2",
   "language": "python",
   "name": "python3"
  },
  "language_info": {
   "codemirror_mode": {
    "name": "ipython",
    "version": 3
   },
   "file_extension": ".py",
   "mimetype": "text/x-python",
   "name": "python",
   "nbconvert_exporter": "python",
   "pygments_lexer": "ipython3",
   "version": "3.10.12"
  },
  "orig_nbformat": 4
 },
 "nbformat": 4,
 "nbformat_minor": 2
}
